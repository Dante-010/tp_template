{
 "cells": [
  {
   "cell_type": "code",
   "execution_count": 1,
   "metadata": {},
   "outputs": [],
   "source": [
    "import os\n",
    "import numpy as np\n",
    "from nilearn import image\n",
    "from nilearn.image import load_img\n",
    "from glob import glob"
   ]
  },
  {
   "cell_type": "markdown",
   "metadata": {},
   "source": [
    "Primero, convertimos las imagenes en vectores de una dimension, y luego las unimos en una matriz NxV, con V = cantidad de voxeles, y N = cantidad de sujetos * 2 (dos hemisferios por sujeto). Las imagenes ya fueron pre-procesadas."
   ]
  },
  {
   "cell_type": "code",
   "execution_count": 2,
   "metadata": {},
   "outputs": [],
   "source": [
    "def process_images(input_folder):\n",
    "    nii_files = glob(os.path.join(input_folder, '*.nii*'))\n",
    "    \n",
    "    vectors = []\n",
    "\n",
    "    for nii_file in nii_files:\n",
    "        img = load_img(nii_file)\n",
    "        \n",
    "        # Get the data as a 3D numpy array\n",
    "        data = img.get_fdata()\n",
    "\n",
    "        # Flatten the 3D array to a 1D vector\n",
    "        vector = data.ravel()        \n",
    "        \n",
    "        vectors.append(vector)\n",
    "    \n",
    "    # Convert the list of vectors to a 2D numpy array (NxV)\n",
    "    matrix = np.vstack(vectors)\n",
    "    \n",
    "    return matrix"
   ]
  },
  {
   "cell_type": "code",
   "execution_count": 3,
   "metadata": {},
   "outputs": [],
   "source": [
    "input_folders = [\"brain_hemispheres_dataset0/output_data\", \"brain_hemispheres_dataset1/output_data\"]"
   ]
  },
  {
   "cell_type": "code",
   "execution_count": 4,
   "metadata": {},
   "outputs": [
    {
     "name": "stdout",
     "output_type": "stream",
     "text": [
      "Processing data from: brain_hemispheres_dataset0/output_data\n"
     ]
    },
    {
     "ename": "ValueError",
     "evalue": "all the input array dimensions except for the concatenation axis must match exactly, but along dimension 1, the array at index 0 has size 446355 and the array at index 2 has size 456274",
     "output_type": "error",
     "traceback": [
      "\u001b[0;31m---------------------------------------------------------------------------\u001b[0m",
      "\u001b[0;31mValueError\u001b[0m                                Traceback (most recent call last)",
      "Cell \u001b[0;32mIn[4], line 3\u001b[0m\n\u001b[1;32m      1\u001b[0m \u001b[38;5;28;01mfor\u001b[39;00m input_folder \u001b[38;5;129;01min\u001b[39;00m input_folders:\n\u001b[1;32m      2\u001b[0m     \u001b[38;5;28mprint\u001b[39m(\u001b[38;5;124mf\u001b[39m\u001b[38;5;124m\"\u001b[39m\u001b[38;5;124mProcessing data from: \u001b[39m\u001b[38;5;132;01m{\u001b[39;00minput_folder\u001b[38;5;132;01m}\u001b[39;00m\u001b[38;5;124m\"\u001b[39m)\n\u001b[0;32m----> 3\u001b[0m     matrix \u001b[38;5;241m=\u001b[39m \u001b[43mprocess_images\u001b[49m\u001b[43m(\u001b[49m\u001b[43minput_folder\u001b[49m\u001b[43m)\u001b[49m\n\u001b[1;32m      5\u001b[0m     \u001b[38;5;66;03m# Guardamos la matriz como archivo para poder reutilizarla sin tener que hacer todo de vuelta.\u001b[39;00m\n\u001b[1;32m      6\u001b[0m     output_file \u001b[38;5;241m=\u001b[39m os\u001b[38;5;241m.\u001b[39mpath\u001b[38;5;241m.\u001b[39mjoin(input_folder, \u001b[38;5;124m'\u001b[39m\u001b[38;5;124mdata_matrix.npy\u001b[39m\u001b[38;5;124m'\u001b[39m)\n",
      "Cell \u001b[0;32mIn[2], line 19\u001b[0m, in \u001b[0;36mprocess_images\u001b[0;34m(input_folder)\u001b[0m\n\u001b[1;32m     16\u001b[0m     vectors\u001b[38;5;241m.\u001b[39mappend(vector)\n\u001b[1;32m     18\u001b[0m \u001b[38;5;66;03m# Convert the list of vectors to a 2D numpy array (NxV)\u001b[39;00m\n\u001b[0;32m---> 19\u001b[0m matrix \u001b[38;5;241m=\u001b[39m \u001b[43mnp\u001b[49m\u001b[38;5;241;43m.\u001b[39;49m\u001b[43mvstack\u001b[49m\u001b[43m(\u001b[49m\u001b[43mvectors\u001b[49m\u001b[43m)\u001b[49m\n\u001b[1;32m     21\u001b[0m \u001b[38;5;28;01mreturn\u001b[39;00m matrix\n",
      "File \u001b[0;32m~/miniconda3/envs/pni/lib/python3.12/site-packages/numpy/core/shape_base.py:289\u001b[0m, in \u001b[0;36mvstack\u001b[0;34m(tup, dtype, casting)\u001b[0m\n\u001b[1;32m    287\u001b[0m \u001b[38;5;28;01mif\u001b[39;00m \u001b[38;5;129;01mnot\u001b[39;00m \u001b[38;5;28misinstance\u001b[39m(arrs, \u001b[38;5;28mlist\u001b[39m):\n\u001b[1;32m    288\u001b[0m     arrs \u001b[38;5;241m=\u001b[39m [arrs]\n\u001b[0;32m--> 289\u001b[0m \u001b[38;5;28;01mreturn\u001b[39;00m \u001b[43m_nx\u001b[49m\u001b[38;5;241;43m.\u001b[39;49m\u001b[43mconcatenate\u001b[49m\u001b[43m(\u001b[49m\u001b[43marrs\u001b[49m\u001b[43m,\u001b[49m\u001b[43m \u001b[49m\u001b[38;5;241;43m0\u001b[39;49m\u001b[43m,\u001b[49m\u001b[43m \u001b[49m\u001b[43mdtype\u001b[49m\u001b[38;5;241;43m=\u001b[39;49m\u001b[43mdtype\u001b[49m\u001b[43m,\u001b[49m\u001b[43m \u001b[49m\u001b[43mcasting\u001b[49m\u001b[38;5;241;43m=\u001b[39;49m\u001b[43mcasting\u001b[49m\u001b[43m)\u001b[49m\n",
      "\u001b[0;31mValueError\u001b[0m: all the input array dimensions except for the concatenation axis must match exactly, but along dimension 1, the array at index 0 has size 446355 and the array at index 2 has size 456274"
     ]
    }
   ],
   "source": [
    "for input_folder in input_folders:\n",
    "    print(f\"Processing data from: {input_folder}\")\n",
    "    matrix = process_images(input_folder)\n",
    "    \n",
    "    # Guardamos la matriz como archivo para poder reutilizarla sin tener que hacer todo de vuelta.\n",
    "    output_file = os.path.join(input_folder, 'data_matrix.npy')\n",
    "    np.save(output_file, matrix)\n",
    "    \n",
    "    print(f\"Data matrix saved to: {output_file}\")"
   ]
  }
 ],
 "metadata": {
  "kernelspec": {
   "display_name": "pni",
   "language": "python",
   "name": "python3"
  },
  "language_info": {
   "codemirror_mode": {
    "name": "ipython",
    "version": 3
   },
   "file_extension": ".py",
   "mimetype": "text/x-python",
   "name": "python",
   "nbconvert_exporter": "python",
   "pygments_lexer": "ipython3",
   "version": "3.12.2"
  }
 },
 "nbformat": 4,
 "nbformat_minor": 2
}
